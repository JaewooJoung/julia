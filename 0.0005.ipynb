{
 "cells": [
  {
   "cell_type": "markdown",
   "metadata": {},
   "source": [
    "# 만약(如果)에(`if`)  / 그렇지않다면이건가?(`elseif`) / 그렇지않다면 (`else`)\n",
    "\n",
    "## 만약(如果)의 문법은 다음과 같습니다 \n",
    "```julia\n",
    "if *조건 1*\n",
    "    *할일 1*\n",
    "elseif *조건 2*\n",
    "    *할일 2*\n",
    "else\n",
    "    *할일 3*\n",
    "end\n",
    "```"
   ]
  },
  {
   "cell_type": "code",
   "execution_count": 12,
   "metadata": {},
   "outputs": [
    {
     "name": "stdout",
     "output_type": "stream",
     "text": [
      "둘중하나는 대치됩니다true\n"
     ]
    }
   ],
   "source": [
    "a=1\n",
    "b=1\n",
    "c=2\n",
    "\n",
    "if ((a==a)&&(b==c))\n",
    "    print(\"真\")\n",
    "elseif((a==a)⊻(b==c))\n",
    "   print(\"둘중하나는 대치됩니다\")\n",
    "else\n",
    "   print(\"假\")\n",
    "end\n",
    "\n",
    "\n",
    "if (true ⊻ false)\n",
    "    println(\"true\")\n",
    "end"
   ]
  },
  {
   "cell_type": "markdown",
   "metadata": {},
   "source": [
    "## 먼저 and(和) 와 or(或) 그리고 XOR(独家或) 등의 비교문을 봅시다\n",
    "### \n",
    "### and(和) 는 참(真) `and`  참(真) = 참(真)   / 그렇지만 거짓이 하나라도 있는경우 --> 거짓이 됩니다. 참(真) `and`  거짓(假) = 거짓(假)\n",
    "### or(或) 는 거짓(假) `or` 거짓(假) = 거짓(假) / 그렇지만 참이 하나라도 있으다면 --> 참이 됩니다. 참(真) `or`  거짓(假) = 참(真)\n",
    "#### <font color=red>and(和) </font>는 컴퓨터에서 `&&` 로 비교합니다. \n",
    "#### <font color=red>or(或) </font>는 컴퓨터에서 `||` 로 비교합니다. \n",
    "#### 두값이 <font color=red>같은지</font> 볼때는 `==`\n",
    "#### X값이 Y 보다 <font color=red>많거나 같은걸</font> 볼땐 `X>=Y` \n",
    "#### X값이 Y 보다 <font color=red>적거나 같은걸</font> 볼땐 `X<=Y` \n",
    "#### X값이 Y 보다 <font color=red>많은걸</font> 볼땐 `X>Y` \n",
    "#### X값이 Y 보다 <font color=red>적은걸</font> 볼땐 `X<Y`\n",
    "#### 마지막으로 XOR(独家或/배타적 또는) 연산자 `⊻` 을 배우겠습니다. 참과 거짓이 서로 대치될때만 이조건은 만족합니다. \n",
    "```julia \n",
    "참 ⊻ 참 = false\n",
    "참 ⊻ 거짓 = true\n",
    "거짓 ⊻ 참 = true\n",
    "거짓 ⊻ 거짓 = false\n",
    "``` \n",
    "\n",
    "### \n",
    "### 조건식 쓸때 주화입마 \n",
    "#### and(和/그리고) 라는 것은 원래 문장에서는 <font color=red> & </font>만 씁니다. <font color=red>수학에서는 <font color=red><strong> ∧ </strong></font> 이지만 조건문에서 이것을 쓰시면 안됩니다. </font>\n",
    "#### or(或/또는) 라는 것은 원래 문장에서는<font color=red> | </font>만 씁니다.  <font color=red>수학에서는 <font color=red><strong> ∨ </strong></font> 이지만 조건문에서 이것을 쓰시면 안됩니다. </font>\n",
    "#### XOR(独家或/배타적 또는) 라는 것은 원래 문장에서는<font color=red> | </font>만 씁니다.  <font color=red>수학에서는 <font color=red><strong> ∨ </strong></font> 이지만 조건문에서 이것을 쓰시면 안됩니다. </font>\n",
    "#### <font color=red font=bold> = </font>도 하나만 쓰면 값을 넣겠다는 것입니다. <font color=red>조건문에서 이것을 쓰시면 안됩니다. </font>\n",
    "\n"
   ]
  },
  {
   "cell_type": "markdown",
   "metadata": {},
   "source": [
    "(1>=0)⊻(1<=0)"
   ]
  },
  {
   "cell_type": "markdown",
   "metadata": {},
   "source": [
    "### 한번 하나씩해볼까요?\n"
   ]
  },
  {
   "cell_type": "code",
   "execution_count": 25,
   "metadata": {},
   "outputs": [
    {
     "name": "stdout",
     "output_type": "stream",
     "text": [
      "x 값( 5 )이 Y 값( 3 ) 보다 많습니다. \n"
     ]
    }
   ],
   "source": [
    "x=5;y=3;\n",
    "(x > y) ? println(\"x 값( $x )이 Y 값( $y ) 보다 많거나같습니다. \") : println(\"x 값( $x )이 Y 값( $y ) 보다 적습니다. \")"
   ]
  },
  {
   "cell_type": "code",
   "execution_count": 17,
   "metadata": {},
   "outputs": [
    {
     "name": "stdout",
     "output_type": "stream",
     "text": [
      "x 값( 5 )이 Y 값( 3 ) 보다 많습니다. \n"
     ]
    }
   ],
   "source": [
    "x=5\n",
    "y=3 \n",
    "if(x > y) # X가 Y 보다 많으면 \n",
    "    println(\"x 값( $x )이 Y 값( $y ) 보다 많습니다. \")\n",
    "elseif (x < y) # X가 Y 보다 적으면  \n",
    "    println(\"x 값( $x )이 Y 값( $y ) 보다 적습니다. \")\n",
    "else  # 이것도 저것도 아니면 \n",
    "    println(\"x 값( $x )과 Y 값( $y ) 이 같습니다. \")\n",
    "end"
   ]
  },
  {
   "cell_type": "markdown",
   "metadata": {},
   "source": [
    "## `🤺 삼중연산자`내공: 이것은 거짓말 탐지기 같은 몹을 한번에 잡습니다.  \n",
    "```julia\n",
    "*조건 1* ? *할일 1* : *할일 2*\n",
    "```\n",
    "#### 위(⬆)의 문법은 아래(⬇) 와 같습니다.\n",
    "\n",
    "```julia\n",
    "if *조건 1*\n",
    "    *할일 1*\n",
    "else\n",
    "    *할일 2*\n",
    "end\n",
    "```\n"
   ]
  },
  {
   "cell_type": "code",
   "execution_count": 2,
   "metadata": {},
   "outputs": [
    {
     "name": "stdout",
     "output_type": "stream",
     "text": [
      "같음\n"
     ]
    }
   ],
   "source": [
    "z=10000\n",
    "(z==10000) ? println(\"같음\") : println(\"다름\") "
   ]
  },
  {
   "cell_type": "code",
   "execution_count": 3,
   "metadata": {},
   "outputs": [
    {
     "name": "stdout",
     "output_type": "stream",
     "text": [
      "진실"
     ]
    }
   ],
   "source": [
    "나의대답 = true\n",
    "나의대답 ? print(\"진실\") : print(\"거짓\") "
   ]
  },
  {
   "cell_type": "markdown",
   "metadata": {},
   "source": [
    "#### 여기서 좀더 가볼까요?"
   ]
  },
  {
   "cell_type": "code",
   "execution_count": 7,
   "metadata": {},
   "outputs": [
    {
     "data": {
      "text/plain": [
       "30"
      ]
     },
     "execution_count": 7,
     "metadata": {},
     "output_type": "execute_result"
    }
   ],
   "source": [
    "x=30\n",
    "y=30\n",
    "(x > y) ? x : y  \n",
    "\n",
    "# 이것이 알려주는것은 가장 높은숫자이겠죠?"
   ]
  },
  {
   "cell_type": "markdown",
   "metadata": {},
   "source": [
    "### and(和) 연산자 `&&` 으로 참/거짓 테이블을 만들어 보겠습니다. "
   ]
  },
  {
   "cell_type": "code",
   "execution_count": 110,
   "metadata": {},
   "outputs": [
    {
     "name": "stdout",
     "output_type": "stream",
     "text": [
      "true\n",
      "false\n",
      "false\n",
      "false\n"
     ]
    }
   ],
   "source": [
    "참 =  true \n",
    "거짓 = false\n",
    "println(참 && 참)\n",
    "println(참 && 거짓)\n",
    "println(거짓 && 참)\n",
    "println(거짓 && 거짓)"
   ]
  },
  {
   "cell_type": "markdown",
   "metadata": {},
   "source": [
    "# or(或) 연산자 `||` 으로 참/거짓 테이블을 만들어 보겠습니다. "
   ]
  },
  {
   "cell_type": "code",
   "execution_count": 51,
   "metadata": {},
   "outputs": [
    {
     "name": "stdout",
     "output_type": "stream",
     "text": [
      "true\n",
      "true\n",
      "true\n",
      "false\n"
     ]
    }
   ],
   "source": [
    "println(참 || 참)\n",
    "println(참 || 거짓)\n",
    "println(거짓 || 참)\n",
    "println(거짓 || 거짓)"
   ]
  },
  {
   "cell_type": "code",
   "execution_count": 94,
   "metadata": {},
   "outputs": [
    {
     "name": "stdout",
     "output_type": "stream",
     "text": [
      "hi\n"
     ]
    },
    {
     "data": {
      "text/plain": [
       "true"
      ]
     },
     "execution_count": 94,
     "metadata": {},
     "output_type": "execute_result"
    }
   ],
   "source": [
    "true && (println(\"hi\"); true) #앞의 조건이 참이면 무조건 뒤쪽 (println(\"hi\"); true) 을 봅니다. "
   ]
  },
  {
   "cell_type": "code",
   "execution_count": 11,
   "metadata": {},
   "outputs": [
    {
     "name": "stdout",
     "output_type": "stream",
     "text": [
      "hi\n"
     ]
    }
   ],
   "source": [
    "a=1\n",
    "b=1\n",
    "(b==a) && (println(\"hi\"))"
   ]
  },
  {
   "cell_type": "code",
   "execution_count": 92,
   "metadata": {},
   "outputs": [
    {
     "data": {
      "text/plain": [
       "false"
      ]
     },
     "execution_count": 92,
     "metadata": {},
     "output_type": "execute_result"
    }
   ],
   "source": [
    "false && (println(\"hi\"); false) #앞의 조건이 거짓이면 무조건 스킵합니다 뒤는 보나마나 False 이니까요"
   ]
  },
  {
   "cell_type": "code",
   "execution_count": 91,
   "metadata": {},
   "outputs": [
    {
     "data": {
      "text/plain": [
       "false"
      ]
     },
     "execution_count": 91,
     "metadata": {},
     "output_type": "execute_result"
    }
   ],
   "source": [
    "#조건을 만족하게 만들면 아래코드는 그냥 스킵 됩니다. \n",
    "# False && Blah 일텐데 거짓과 참이 만나면 무조건 거짓이니 두번째 에러프린트를 하지 않습니다. \n",
    "# 이것은 에러탐지용 으로 짧게 쓸때 많이 씁니다. \n",
    "\n",
    "x= -8  # 만족할만한 값을 넣고 \n",
    "(x > 0) && error(\"x cannot be greater than 0\") #첫번째가 참이 되지 못하니까 그냥 끝나버림 "
   ]
  },
  {
   "cell_type": "code",
   "execution_count": 90,
   "metadata": {},
   "outputs": [
    {
     "ename": "LoadError",
     "evalue": "x cannot be greater than 0",
     "output_type": "error",
     "traceback": [
      "x cannot be greater than 0",
      "",
      "Stacktrace:",
      " [1] error(::String) at .\\error.jl:33",
      " [2] top-level scope at In[90]:3",
      " [3] include_string(::Function, ::Module, ::String, ::String) at .\\loading.jl:1091"
     ]
    }
   ],
   "source": [
    "# 이제 에러가 생기게 해보겠습니다. \n",
    "x= 4 #만족 할만한답을 주지 않고 \n",
    "(x > 0) && error(\"x cannot be greater than 0\") #첫번째가 참이기 때문에 그냥 에러를 배출합니다. "
   ]
  },
  {
   "cell_type": "code",
   "execution_count": 65,
   "metadata": {},
   "outputs": [
    {
     "data": {
      "text/plain": [
       "true"
      ]
     },
     "execution_count": 65,
     "metadata": {},
     "output_type": "execute_result"
    }
   ],
   "source": [
    "true || println(\"hi\")"
   ]
  },
  {
   "cell_type": "code",
   "execution_count": 66,
   "metadata": {},
   "outputs": [
    {
     "name": "stdout",
     "output_type": "stream",
     "text": [
      "hi\n"
     ]
    }
   ],
   "source": [
    "false || println(\"hi\")"
   ]
  },
  {
   "cell_type": "markdown",
   "metadata": {},
   "source": [
    "### XOR(独家或/배타적 또는) 연산자 `⊻` 으로 참/거짓 테이블을 만들어 보겠습니다. "
   ]
  },
  {
   "cell_type": "code",
   "execution_count": 107,
   "metadata": {},
   "outputs": [
    {
     "name": "stdout",
     "output_type": "stream",
     "text": [
      "false\n",
      "true\n",
      "true\n",
      "false\n"
     ]
    }
   ],
   "source": [
    "참 =  true \n",
    "거짓 = false\n",
    "println(참 ⊻ 참)\n",
    "println(참 ⊻ 거짓)\n",
    "println(거짓 ⊻ 참)\n",
    "println(거짓 ⊻ 거짓)"
   ]
  },
  {
   "cell_type": "code",
   "execution_count": 13,
   "metadata": {},
   "outputs": [
    {
     "name": "stdout",
     "output_type": "stream",
     "text": [
      "홀수"
     ]
    }
   ],
   "source": [
    "# 홀수 짝수 구분법은 실습을 해보세요~!\n",
    "\n",
    "x = 1\n",
    "if ((x % 2) == 1) \n",
    "    print(\"홀수\") \n",
    "else\n",
    "    print(\"짝수\") \n",
    "end"
   ]
  },
  {
   "cell_type": "markdown",
   "metadata": {},
   "source": [
    "#### `🤺 삼중연산자`내공 으로 홀수짝수 구분 해보세요\n"
   ]
  },
  {
   "cell_type": "code",
   "execution_count": 86,
   "metadata": {},
   "outputs": [
    {
     "name": "stdout",
     "output_type": "stream",
     "text": [
      "짝수"
     ]
    }
   ],
   "source": [
    "x = 8; ((x % 2) == 1) ? print(\"홀수\") : print(\"짝수\") "
   ]
  },
  {
   "cell_type": "code",
   "execution_count": 19,
   "metadata": {},
   "outputs": [
    {
     "name": "stdout",
     "output_type": "stream",
     "text": [
      "홀,짝,홀,짝,홀,짝,홀,짝,홀\n",
      "짝,짝,짝,짝,짝,짝,짝,짝,짝\n",
      "홀,짝,홀,짝,홀,짝,홀,짝,홀\n",
      "짝,짝,짝,짝,짝,짝,짝,짝,짝\n",
      "홀,짝,홀,짝,홀,짝,홀,짝,홀\n",
      "짝,짝,짝,짝,짝,짝,짝,짝,짝\n",
      "홀,짝,홀,짝,홀,짝,홀,짝,홀\n",
      "짝,짝,짝,짝,짝,짝,짝,짝,짝\n",
      "홀,짝,홀,짝,홀,짝,홀,짝,홀\n"
     ]
    }
   ],
   "source": [
    "#구구단을 한번 홀짝구분 해볼까요?\n",
    "i=0; j=0; \n",
    "C=[(i * j %2) for i in 1:9, j in 1:9] \n",
    "\n",
    "for i in 1:9, j in 1:9\n",
    "    (C[i,j]== 1) ? print('홀') : print('짝') # 만약에 C 에서 i 행 j 열 을 검사해서 1이면 홀 0이면 짝 으로 구분\n",
    "    ( j == 9) ? print('\\n') : print(',')  # 예쁘게 만들기 위함\n",
    "end"
   ]
  },
  {
   "cell_type": "code",
   "execution_count": null,
   "metadata": {},
   "outputs": [],
   "source": []
  },
  {
   "cell_type": "code",
   "execution_count": 5,
   "metadata": {},
   "outputs": [
    {
     "name": "stdout",
     "output_type": "stream",
     "text": [
      "1\n"
     ]
    }
   ],
   "source": [
    "a=1\n",
    "if (a==2)\n",
    "    println(\"a 는 2\")\n",
    "elseif (a==3)\n",
    "    println(\"a 는 3\")\n",
    "elseif (a==0)\n",
    "    println(\"a 는 0\")\n",
    "else\n",
    "    println(a)\n",
    "end"
   ]
  },
  {
   "cell_type": "code",
   "execution_count": null,
   "metadata": {},
   "outputs": [],
   "source": []
  }
 ],
 "metadata": {
  "kernelspec": {
   "display_name": "JuliaPro_v1.5.2-1 1.5.2",
   "language": "julia",
   "name": "juliapro_v1.5.2-1-1.5"
  },
  "language_info": {
   "file_extension": ".jl",
   "mimetype": "application/julia",
   "name": "julia",
   "version": "1.5.2"
  }
 },
 "nbformat": 4,
 "nbformat_minor": 4
}
