{
 "cells": [
  {
   "cell_type": "markdown",
   "metadata": {},
   "source": [
    "# 함수(FUNCTION/函数)\n",
    "## 프로그램을 실제로 개발할수있는 단위로 쪼개 쓰는것을 모듈화 라고 한다 (😂한글로도 그냥 모듈화라고 하네요..) 프로그램에서 모듈화를 하는것중 가장 기본이 되는 방식을 함수라 합니다. \n",
    "### 이걸 쓰면서도 좀더 쉽게 말해줄수없을까 생각해봤는데 분업이 쉬운 예 입니다. 그리고 수학에서는 Y= X+1 이라고 할때 X는 입력 이라고 하고 Y 는 출력이죠 그래서 f(X)=Y 라고 표현합니다. \n",
    "#### 우리나라언어는 그냥 소리나는데로 읽는언어라 외래어 유입이 많을수 밖에 없네요 영어의 모듈과 한자의 화(化) 가 합쳐져서 모듈화라부르는것을 지금까지 이 책을 쓰기전에 생각해본적도 없네요.."
   ]
  },
  {
   "cell_type": "markdown",
   "metadata": {},
   "source": [
    "### 함수(FUNCTION/펑션 이라고 불러도 됩니다) 의 형식\n",
    "#### 기본기\n",
    "```julia \n",
    "function 함수(입력변수)\n",
    "    할일\n",
    "    return y\n",
    "end\n",
    "\n",
    "\n",
    "```\n",
    "#### 숙련기 \n",
    "```julia \n",
    "펑션이름(입력변수) = *할일*\n",
    "```\n",
    "#### 완성기 \n",
    "```julia \n",
    "펑션이름 = 입력변수 -> *할일*\n",
    "```\n"
   ]
  },
  {
   "cell_type": "markdown",
   "metadata": {},
   "source": [
    "#### 기본기를 익혀볼까요?"
   ]
  },
  {
   "cell_type": "code",
   "execution_count": 12,
   "metadata": {},
   "outputs": [
    {
     "name": "stdout",
     "output_type": "stream",
     "text": [
      "2"
     ]
    }
   ],
   "source": [
    "# 기본기 수학의 Y= X+1 을 해볼까요? \n",
    "function 기본펑션(X) # 펑션이름 = 기본펑션, X 는 입력변수\n",
    "    Y = X + 1           # Y값이 X + 1 을 담는다\n",
    "    return Y            # Y 가 회귀합니다. RETURN 뜻은 돌아오다 입니다. \n",
    "end\n",
    "# 펑션은 원래 프로그램과 따로 묶입니다. \n",
    "\n",
    "# 아래는 펑션을 부르는 방법입니다. \n",
    "print(기본펑션(1))"
   ]
  },
  {
   "cell_type": "markdown",
   "metadata": {},
   "source": [
    "#### 숙련기(술)를 익혀볼까요?"
   ]
  },
  {
   "cell_type": "code",
   "execution_count": 5,
   "metadata": {},
   "outputs": [
    {
     "name": "stdout",
     "output_type": "stream",
     "text": [
      "2"
     ]
    }
   ],
   "source": [
    "# 아래는 위에 기본기가 충분하게 익숙해지면 쓰세요\n",
    "myfunc2(X) = return X+1 # 펑션이름 = myfunc2, X 는 입력변수, X+1 가 회귀\n",
    "#이것은 짧은 펑션을 쓰는것이라 *function* 과 *end* 는 필요없습니다. \n",
    "\n",
    "# 아래는 펑션을 부르는 방법입니다. \n",
    "print(myfunc2(1))"
   ]
  },
  {
   "cell_type": "markdown",
   "metadata": {},
   "source": [
    "#### 완성기(술)를 익혀볼까요?"
   ]
  },
  {
   "cell_type": "code",
   "execution_count": 13,
   "metadata": {},
   "outputs": [
    {
     "name": "stdout",
     "output_type": "stream",
     "text": [
      "2"
     ]
    }
   ],
   "source": [
    "# 아래는 위에 숙련기가 충분하게 익숙해지고 코멘트도 잘할때 쓰세요\n",
    "myfunc3 = X -> return X+1  # 펑션이름 = myfunc3, X 는 입력변수, X+1 가 돌아감\n",
    "\n",
    "print(myfunc3(1))"
   ]
  },
  {
   "cell_type": "markdown",
   "metadata": {},
   "source": [
    "## 정렬함수 (sort funnction/ 소ㄹ트펑션 이라고 프로그래머들은 대부분 영어로 말합니다. ) \n",
    "### Julia 에서는 이것은 Built-in(빌트인) 으로 제공 됩니다. 이런건 배울때 도움이 안됩니다. 그래서 빌트인 소ㄹ트 sort 를 배운후에 sort 펑션을 쓰도록 합시다.\n",
    "#### 다음은 SORT 를 펑션화 하는건데 버블소트(bubble sort) 를 예를 하여 알려드립니다. \n",
    "#### 외울필요는 없습니다, 왜냐면 버블소트는 가르치는데 쓰기 좋은것 뿐 진짜 빠른 정렬 방식은 heap sort 나 radix sort 를 씁니다. (이것은 나중에 배우도록합니다.)"
   ]
  },
  {
   "cell_type": "code",
   "execution_count": 3,
   "metadata": {},
   "outputs": [
    {
     "name": "stdout",
     "output_type": "stream",
     "text": [
      "before sort : [3, 2, 1, 4, 8, 7, 6, 5]\n",
      "after sort : [1, 2, 3, 4, 5, 6, 7, 8]\n"
     ]
    }
   ],
   "source": [
    "#스왑을 하나 만든다\n",
    "f_swap(a,b) = return b,a\n",
    "\n",
    "#버블 소트는 다음과 같이 만듭니다. \n",
    "function f_bbsort(X)\n",
    "    for idx2 in 2:length(X)\n",
    "        for idx1 in 1:length(X)\n",
    "            if (X[idx1]>X[idx2])\n",
    "                X[idx1],X[idx2]=f_swap(X[idx1],X[idx2])\n",
    "            end\n",
    "        end\n",
    "    end\n",
    "end\n",
    "\n",
    "C=[3,2,1,4,8,7,6,5]\n",
    "println(\"before sort : \", C)\n",
    "f_bbsort(C)\n",
    "println(\"after sort : \", C)"
   ]
  },
  {
   "cell_type": "markdown",
   "metadata": {},
   "source": [
    "##### 스왑은 a 와 b가 들어가서 a는 b가 되고 b는 a가 되는것입니다. \n",
    "```julia\n",
    "f_swap(a,b) = return b,a  #이건 짧게 쓴것이지만 \n",
    "```\n",
    "##### 길게 쓰면 다음과같이 되겠죠?\n",
    "```julia\n",
    "function f_swap(a,b)\n",
    "    return b,a\n",
    "end\n",
    "```\n",
    "##### 더 길게 쓰면 다음과같이 되겠죠?\n",
    "```julia\n",
    "function f_swap(a,b)\n",
    "    기억 = a\n",
    "    a = b\n",
    "    b = 기억\n",
    "    return a,b\n",
    "end\n",
    "```\n",
    "\n",
    "##### 버블소트는 for 가 두개 들어갑니다. 하나는 앞에 하나는 뒤에 값을 보면서 계속 버블을 올려보내듯이 합니다. \n",
    "```julia\n",
    "function f_bbsort(X)\n",
    "    for idx2 in 2:length(X)     # 어레이의 두번째부터 시작 \n",
    "        for idx1 in 1:length(X) # 어레이의 첫번째부터 시작 \n",
    "            if (X[idx1]>X[idx2]) #만약  앞에값이 뒤에값보다 크면 \n",
    "                X[idx1],X[idx2]=f_swap(X[idx1],X[idx2])  #바꾼다 \n",
    "            end\n",
    "        end\n",
    "    end\n",
    "end\n",
    "```\n",
    "##### 왠지 좀 길죠? 하지만 이해하는데는 이렇게 길게 쓰는것이 도움이 됩니다. "
   ]
  },
  {
   "cell_type": "markdown",
   "metadata": {},
   "source": [
    "### 그럼 조금더 빠르고 간결하게 프로그램을 하는것은 어떻게 하는것일까요?"
   ]
  },
  {
   "cell_type": "code",
   "execution_count": 5,
   "metadata": {},
   "outputs": [
    {
     "name": "stdout",
     "output_type": "stream",
     "text": [
      "before sort : [3, 2, 1, 4, 8, 7, 6, 5]\n",
      "after sort : [1, 2, 3, 4, 5, 6, 7, 8]\n"
     ]
    }
   ],
   "source": [
    "#버블소트 펑션을 좀더 줄여볼까요? 줄이는건 중요한건 아니에요 하지만 알아보기 쉬운게 목표입니다. 그러니 코멘트도 하나씩 다해주어야 다른사람들이 알아보기 쉽습니다. \n",
    "function f_bbsort(X) #f_bbsort 는 function buble sort 의 줄임말입니다. \n",
    "    for idx2 in 2:length(X), idx1 in 1:length(X) #한개는 맨앞에서 시작하고 하나는 두번째에서 시작합니다. \n",
    "        (X[idx1]<X[idx2]) && continue ; X[idx1],X[idx2]=X[idx2],X[idx1] # 앞의 숫자가 뒤에 숫자보다 작으면 바꾼다, continue는 조건이 안맞으면 다음으로 보내고 맞으면 루프에서 빠져나옵니다. \n",
    "    end # 한줄짜리 프로그램이 아니라면 end 는 위의 for 루프가 언제 끝나는지 알려줍니다.\n",
    "end #function 이 언제 닫히는지 말려줍니다. \n",
    "\n",
    "C=[3,2,1,4,8,7,6,5]\n",
    "println(\"before sort : \", C)\n",
    "f_bbsort(C)\n",
    "println(\"after sort : \", C)"
   ]
  },
  {
   "cell_type": "code",
   "execution_count": 5,
   "metadata": {},
   "outputs": [
    {
     "name": "stdout",
     "output_type": "stream",
     "text": [
      "[1, 2, 3, 4, 5, 6, 7, 8]"
     ]
    }
   ],
   "source": [
    "### 네, 여기까지 힘들게 소트 공부하셨습니다. 빌트인 펑션으로 한번 해볼까요?\n",
    "C=[3,2,1,4,8,7,6,5]\n",
    "print(sort(C))"
   ]
  },
  {
   "cell_type": "code",
   "execution_count": 7,
   "metadata": {},
   "outputs": [
    {
     "name": "stdout",
     "output_type": "stream",
     "text": [
      "[1, 2, 3, 4, 5, 6, 7, 8]"
     ]
    }
   ],
   "source": [
    "#바뀐후에 C 값 자체가 변하게 만들어볼까요?\n",
    "C=[3,2,1,4,8,7,6,5]\n",
    "sort!(C)\n",
    "print(C)"
   ]
  },
  {
   "cell_type": "markdown",
   "metadata": {},
   "source": [
    "### 어레이에 맵(map/制图)과 또한 브로드캐스트(broadcast/广播) 사용하는 방법을 알아보십시다.\n",
    "#### 어레이에 여러개를 한꺼번에 대입하는일은 프로그램에서는 흔한일입니다. 가령 화면을 흑백으로 바꾸려면 모든 숫자가 컬러값에서 흑백값으로 한꺼번에 바뀌어야 하는데 이것을 프로그래밍에서 할때는 이런 매핑을 씁니다. \n",
    "##### 다음은 예제입니다"
   ]
  },
  {
   "cell_type": "code",
   "execution_count": 11,
   "metadata": {},
   "outputs": [
    {
     "name": "stdout",
     "output_type": "stream",
     "text": [
      "[4, 3, 2, 5, 9, 8, 7, 6]\n",
      "[4, 3, 2, 5, 9, 8, 7, 6]\n",
      "[4, 3, 2, 5, 9, 8, 7, 6]\n"
     ]
    }
   ],
   "source": [
    "#요건 하나씩 더하기 맵 \n",
    "A=[3,2,1,4,8,7,6,5]\n",
    "A= map(x -> x+1, A)\n",
    "println(A)\n",
    "\n",
    "#요건 하나씩 더하기 브로드캐스트 \n",
    "A=[3,2,1,4,8,7,6,5]\n",
    "A=(+).(A, 1)\n",
    "println(A)\n",
    "\n",
    "#요건 브로드캐스트 작고이쁘게 \n",
    "A=[3,2,1,4,8,7,6,5]\n",
    "println(A .+ 1)"
   ]
  },
  {
   "cell_type": "markdown",
   "metadata": {},
   "source": [
    "### 다음은 여러 예제입니다. "
   ]
  },
  {
   "cell_type": "code",
   "execution_count": 4,
   "metadata": {},
   "outputs": [
    {
     "name": "stdout",
     "output_type": "stream",
     "text": [
      "[27, 8, 1, 64, 512, 343, 216, 125]\n",
      "[27, 8, 1, 64, 512, 343, 216, 125]\n",
      "[27, 8, 1, 64, 512, 343, 216, 125]\n",
      "[27, 8, 1, 64, 512, 343, 216, 125]\n",
      "[4 16; 27 81; 32 64; 1 1; 0 0]\n",
      "Bool[0 1; 1 0]\n",
      "[\"하나: 1\", \"둘: 2\", \"셋: 3\", \"넷: 4\"]\n",
      "[1.0 372.14839989670804; 11871.038330752272 138494.43154568016; 931146.6103614374 4.417787919901947e6; 1.647830943136698e7 5.154048109432904e7; 1.409215510501897e8 3.4652472111525244e8]\n"
     ]
    }
   ],
   "source": [
    "C=[3,2,1,4,8,7,6,5]\n",
    "C=map(x -> x^3, C)\n",
    "println(C)\n",
    "\n",
    "C=[3,2,1,4,8,7,6,5]\n",
    "C=broadcast(x -> x^3, C)\n",
    "println(C)\n",
    "\n",
    "C=[3,2,1,4,8,7,6,5]\n",
    "C=broadcast(^, C, 3)\n",
    "println(C)\n",
    "\n",
    "C=[3,2,1,4,8,7,6,5]\n",
    "C=(^).( C, 3)\n",
    "println(C)\n",
    "\n",
    "A = [4, 3, 2, 1, 0]\n",
    "B = [1 2; 3 4; 5 6; 7 8; 9 10]\n",
    "C=(^).(A, B)\n",
    "println(C)\n",
    "\n",
    "A = [true, false]\n",
    "B = [true false; true false]\n",
    "C=(⊻).(A, B)\n",
    "println(C)\n",
    "\n",
    "C=string.((\"하나\",\"둘\",\"셋\",\"넷\"), \": \", 1:4)\n",
    "println(C)\n",
    "\n",
    "B = [1 2; 3 4; 5 6; 7 8; 9 10]\n",
    "C=(^).(B,ℯ*π)\n",
    "println(C)"
   ]
  }
 ],
 "metadata": {
  "kernelspec": {
   "display_name": "JuliaPro_v1.5.2-1 1.5.2",
   "language": "julia",
   "name": "juliapro_v1.5.2-1-1.5"
  },
  "language_info": {
   "file_extension": ".jl",
   "mimetype": "application/julia",
   "name": "julia",
   "version": "1.5.2"
  }
 },
 "nbformat": 4,
 "nbformat_minor": 4
}
