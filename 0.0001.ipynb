{
 "cells": [
  {
   "cell_type": "markdown",
   "metadata": {},
   "source": [
    "# 0001 쥬피터를 배워보자"
   ]
  },
  {
   "cell_type": "markdown",
   "metadata": {},
   "source": [
    "## 왜 쥬피터를 쓰나요?\n",
    "### 쥬피터는 학생들에게 컴퓨터 프로그래밍 환경을 가르쳐주면서 프로그래밍 규율을 쉽게 배울수있습니다. \n",
    "#### 1. HTML 또는 Tex 환경을 미리 알려줄수있는 환경이됩니다. \n",
    "#### 2. 공부를 하면서 정리를 하는 습관을 들일수있습니다. \n",
    "#### 3. 간단한수식은 확인을 할수있습니다. \n",
    "##### 이제 함께 배워볼까요?"
   ]
  },
  {
   "cell_type": "markdown",
   "metadata": {},
   "source": [
    "## 언어에서 제일먼저 해야할일은 단어(Vocablary)를 배우는 일입니다. \n",
    "### 큰글자는 내부의 작은글자들이 모여서 하나로 표현하는것입니다. \n",
    "#### 쥬피터에서 제일큰글자는 # ⬅ 이렇게 표사하고 한칸을 띄웁니다. 그다음 위부분에 code 라고 써있는부분을 markdown 으로 바꾸어줍니다. "
   ]
  },
  {
   "cell_type": "markdown",
   "metadata": {},
   "source": [
    "##### 한번 쥬피터 스타일로 나누어볼까요?\n",
    "```jupyter style\n",
    "# 01 파트(PART)\n",
    "## 01.1 섹션(SECTION)\n",
    "### 01.1.1 챕터(CHAPTER)\n",
    "#### 01.1.1.1 아티클(ARTICLE)\n",
    "##### 01.1.1.1.1 첨자/참조(REFERENCE)\n",
    "###### 01.1.1.1.1.1 tiny\n",
    "```"
   ]
  },
  {
   "cell_type": "markdown",
   "metadata": {},
   "source": [
    "# 01 파트(PART)\n",
    "## 01.1 섹션(SECTION)\n",
    "### 01.1.1 챕터(CHAPTER)\n",
    "#### 01.1.1.1 아티클(ARTICLE)\n",
    "##### 01.1.1.1.1 첨자/참조(REFERENCE)\n",
    "###### 01.1.1.1.1.1 tiny\n"
   ]
  },
  {
   "cell_type": "markdown",
   "metadata": {},
   "source": [
    "##### HTML로 해볼까요?\n",
    "```html\n",
    "<h1>This is heading 1</h1>\n",
    "<h2>This is heading 2</h2>\n",
    "<h3>This is heading 3</h3>\n",
    "<h4>This is heading 4</h4>\n",
    "<h5>This is heading 5</h5>\n",
    "<h6>This is heading 6</h6>\n",
    "```"
   ]
  },
  {
   "cell_type": "markdown",
   "metadata": {},
   "source": [
    "<h1>01 파트(PART)</h1>\n",
    "<h2>01.1 섹션(SECTION)</h2>\n",
    "<h3>01.1.1 챕터(CHAPTER)</h3>\n",
    "<h4>01.1.1.1 아티클(ARTICLE)</h4>\n",
    "<h5>01.1.1.1.1 서브아티클(SUB-ARTICLE)</h5>\n",
    "<h6>01.1.1.1.1.1 첨자/참조(REFERENCE)</h6>"
   ]
  },
  {
   "cell_type": "markdown",
   "metadata": {},
   "source": [
    "# 중요한말은 크게 \n",
    "```julia \n",
    "### 그러나 원하는데로 <font color=red>강조</font>하고싶은데로 써도 좋다\n",
    "##### 안중요한말은 작게 쓰면 된다\n",
    "```\n",
    "##### 안중요한말은 작게 쓰면 된다\n",
    "\n",
    "### 그러나 원하는데로 <font color=red>강조</font>하고싶은데로 써도 좋다\n",
    "```julia \n",
    "### 그러나 원하는데로 <font color=red>강조</font>하고싶은데로 써도 좋다\n",
    "```"
   ]
  },
  {
   "cell_type": "markdown",
   "metadata": {},
   "source": [
    "### 네~! 같습니다. :) 쉬운것을 고르시면 됩니다."
   ]
  },
  {
   "cell_type": "markdown",
   "metadata": {},
   "source": [
    "## <font color=red>쥴리아</font>를 <font color=dark red>쥬피터</font>에서 쓰는법을 배워볼까요?\n",
    "### 앞으로는 위에서 배운형식을 사용하여 문서를 작성하겠습니다. \n",
    "#### <s>이렇게쓰는방법을 쥬쥬신공(juju) 이라고 한답니다🤪 <img src=\"img/juju.jpg\" alt=\"쥬쥬신공\"  width=\"200\" height=\"240\">"
   ]
  },
  {
   "cell_type": "markdown",
   "metadata": {},
   "source": [
    "#### 간단한계산을 해보겠습니다. (위에서 'Code'로 세팅되어있는데 1+1을 쓰고  ▶ 를 눌러주세요)"
   ]
  },
  {
   "cell_type": "code",
   "execution_count": 5,
   "metadata": {},
   "outputs": [
    {
     "data": {
      "text/plain": [
       "2"
      ]
     },
     "execution_count": 5,
     "metadata": {},
     "output_type": "execute_result"
    }
   ],
   "source": [
    "1+1"
   ]
  },
  {
   "cell_type": "code",
   "execution_count": 7,
   "metadata": {},
   "outputs": [
    {
     "name": "stdout",
     "output_type": "stream",
     "text": [
      "2\n"
     ]
    }
   ],
   "source": [
    "ㄱㄴㄷ=1+1 #자음으로만도 된답니다\n",
    "println(ㄱㄴㄷ)"
   ]
  },
  {
   "cell_type": "code",
   "execution_count": 9,
   "metadata": {},
   "outputs": [
    {
     "data": {
      "text/plain": [
       "2"
      ]
     },
     "execution_count": 9,
     "metadata": {},
     "output_type": "execute_result"
    }
   ],
   "source": [
    "뷁 = 1\n",
    "ㅇㅇ = 1\n",
    "뷁+ㅇㅇ #꼭 Println 을 안써도 됩니다."
   ]
  },
  {
   "cell_type": "code",
   "execution_count": 14,
   "metadata": {},
   "outputs": [
    {
     "data": {
      "text/plain": [
       "3"
      ]
     },
     "execution_count": 14,
     "metadata": {},
     "output_type": "execute_result"
    }
   ],
   "source": [
    "💗=1  #이모티콘도 쓸수있습니다. \n",
    "💕=2\n",
    "하트몇개=💗+💕 #하트는 총 몇개일까요?"
   ]
  },
  {
   "cell_type": "markdown",
   "metadata": {},
   "source": [
    "## 이제 저장을 해주세요"
   ]
  },
  {
   "cell_type": "markdown",
   "metadata": {},
   "source": [
    "## 이글에서 나오는 신공이야기 \n",
    "### JUJU : 주주신공은 우리가 배우는 무공입니다. \n",
    "### 주화입마 : 우리는 잘못된 방법을 배우지 않기위해서 혹시나 할수있는 실수에 대하여 주화입마라 부릅니다. \n",
    "### "
   ]
  },
  {
   "cell_type": "code",
   "execution_count": null,
   "metadata": {},
   "outputs": [],
   "source": []
  }
 ],
 "metadata": {
  "kernelspec": {
   "display_name": "JuliaPro_v1.5.2-1 1.5.2",
   "language": "julia",
   "name": "juliapro_v1.5.2-1-1.5"
  },
  "language_info": {
   "file_extension": ".jl",
   "mimetype": "application/julia",
   "name": "julia",
   "version": "1.5.2"
  }
 },
 "nbformat": 4,
 "nbformat_minor": 4
}
