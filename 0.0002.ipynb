{
 "cells": [
  {
   "cell_type": "markdown",
   "metadata": {},
   "source": [
    "# 0002 운공: 일단 무공을 하기위해서는 운공을 해야합니다.\n",
    "## 주주신공의 운공은 일단 데이터타입을 알아가는데부터 시작합니다. \n",
    "## 데이터 타입이란 어떤것을 컴퓨터에 입력하는지를 뜻합니다. \n",
    "## 더하기 부터 한번 해볼까요?"
   ]
  },
  {
   "cell_type": "code",
   "execution_count": 3,
   "metadata": {},
   "outputs": [
    {
     "data": {
      "text/plain": [
       "2"
      ]
     },
     "execution_count": 3,
     "metadata": {},
     "output_type": "execute_result"
    }
   ],
   "source": [
    "1+1"
   ]
  },
  {
   "cell_type": "code",
   "execution_count": 1,
   "metadata": {},
   "outputs": [],
   "source": [
    "1+1;"
   ]
  },
  {
   "cell_type": "code",
   "execution_count": 2,
   "metadata": {},
   "outputs": [
    {
     "data": {
      "text/plain": [
       "2"
      ]
     },
     "execution_count": 2,
     "metadata": {},
     "output_type": "execute_result"
    }
   ],
   "source": [
    "a=1+1"
   ]
  },
  {
   "cell_type": "code",
   "execution_count": 8,
   "metadata": {},
   "outputs": [
    {
     "name": "stdout",
     "output_type": "stream",
     "text": [
      "wow\n"
     ]
    }
   ],
   "source": [
    "println(\"wow\")"
   ]
  },
  {
   "cell_type": "code",
   "execution_count": 9,
   "metadata": {},
   "outputs": [
    {
     "name": "stdout",
     "output_type": "stream",
     "text": [
      "'wow'"
     ]
    }
   ],
   "source": [
    "print(\"'wow'\")"
   ]
  },
  {
   "cell_type": "code",
   "execution_count": 10,
   "metadata": {},
   "outputs": [
    {
     "name": "stdout",
     "output_type": "stream",
     "text": [
      "smiley cat!\n"
     ]
    }
   ],
   "source": [
    "😺 = \"smile cat\"\n",
    "println(😺)"
   ]
  },
  {
   "cell_type": "code",
   "execution_count": 13,
   "metadata": {},
   "outputs": [
    {
     "name": "stdout",
     "output_type": "stream",
     "text": [
      "😺\n"
     ]
    }
   ],
   "source": [
    "smilecat = \"😺\"\n",
    "println(smilecat)"
   ]
  },
  {
   "cell_type": "markdown",
   "metadata": {},
   "source": [
    "### 컴퓨터 배울때 첫번째로 의식행사 지내듯이 하는 프로그램은 헬로월드입니다. 따라해보세요."
   ]
  },
  {
   "cell_type": "code",
   "execution_count": 1,
   "metadata": {},
   "outputs": [
    {
     "name": "stdout",
     "output_type": "stream",
     "text": [
      "hello world\n"
     ]
    }
   ],
   "source": [
    "str=\"hello world\"\n",
    "println(str)"
   ]
  },
  {
   "cell_type": "code",
   "execution_count": 2,
   "metadata": {},
   "outputs": [
    {
     "name": "stdout",
     "output_type": "stream",
     "text": [
      " my name is jaewoo !\n"
     ]
    }
   ],
   "source": [
    "myname = \"jaewoo\"\n",
    "strwithname = \"\"\" my name is $myname !\"\"\"\n",
    "println(strwithname)"
   ]
  },
  {
   "cell_type": "code",
   "execution_count": 11,
   "metadata": {},
   "outputs": [
    {
     "name": "stdout",
     "output_type": "stream",
     "text": [
      "정재우 님 오늘 커피를 2 잔 마셨습니다 \n"
     ]
    }
   ],
   "source": [
    "coffee = 1+1\n",
    "손님이름 = \"정재우\"\n",
    "오늘몇잔 = \"\"\"$손님이름 님 오늘 커피를 $coffee 잔 마셨습니다 \"\"\"\n",
    "println(오늘몇잔)"
   ]
  },
  {
   "cell_type": "code",
   "execution_count": 7,
   "metadata": {},
   "outputs": [
    {
     "name": "stdout",
     "output_type": "stream",
     "text": [
      "정재우 님 오늘 커피를 999 잔 마셨습니다 \n"
     ]
    }
   ],
   "source": [
    "a = 999\n",
    "b = \"정재우\"\n",
    "c = \"\"\"$b 님 오늘 커피를 $a 잔 마셨습니다 \"\"\"\n",
    "println(c)"
   ]
  },
  {
   "cell_type": "code",
   "execution_count": null,
   "metadata": {},
   "outputs": [],
   "source": []
  }
 ],
 "metadata": {
  "kernelspec": {
   "display_name": "JuliaPro_v1.5.2-1 1.5.2",
   "language": "julia",
   "name": "juliapro_v1.5.2-1-1.5"
  },
  "language_info": {
   "file_extension": ".jl",
   "mimetype": "application/julia",
   "name": "julia",
   "version": "1.5.2"
  }
 },
 "nbformat": 4,
 "nbformat_minor": 4
}
