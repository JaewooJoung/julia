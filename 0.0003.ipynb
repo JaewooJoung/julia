{
 "cells": [
  {
   "cell_type": "markdown",
   "metadata": {},
   "source": [
    "# 0003 문자열(String)(串)을 배워보자"
   ]
  },
  {
   "cell_type": "markdown",
   "metadata": {},
   "source": [
    "## 특수문자(特殊字符)\n",
    "\n",
    "특수문자는 만들기 힘드니까 이렇게 만들어놓고 쓰자 \n",
    "\n",
    "```julia\n",
    "println(\" ✌ΑαΒβΓγΔδΕεΖζΗηΘθΙιΚκΛλΜμΝνΞξΟoΠπΡρΣσΤτΥυΦφΧχΨψΩω∏∑₪※∴≌℃♀♂✌\")\n",
    "println(\" ∂∇∮σΣ√∫∬。±×÷∏≠∴∵≒≤≥＜＞≡∈∋⊂⊃∪∩∀∃⊂⊃⊆⊇≤≥∞Åμ℉℃㎛㎟㎣㏈㎲㏘∠⊥\")\n",
    "println(\" ∑------------------π^2∛∜√℉℃°αβγδεϵθϑμρστ∴-①②③④⑤⑥⑦⑧⑨⑩------\")\n",
    "println(\" -😀←이런것들은 🐍🍭🐉windows(⌘)누른상태에서 '.' 이나 ';' 누르면된다 \")\n",
    "println(\" ✌℡그래도 모르니✌😂😳😱😔😒😄😷👻🙏💪🎉🎁✌郑在佑/№:좋아하는건 써놓자✌\")\n",
    "\n",
    "```"
   ]
  },
  {
   "cell_type": "markdown",
   "metadata": {},
   "source": [
    "### 특수문자를 변수(变量)로 써보자"
   ]
  },
  {
   "cell_type": "code",
   "execution_count": 29,
   "metadata": {},
   "outputs": [
    {
     "data": {
      "text/plain": [
       "\"0000000000000000000000000000000000000000000000000000000000000100\""
      ]
     },
     "execution_count": 29,
     "metadata": {},
     "output_type": "execute_result"
    }
   ],
   "source": [
    "✌=2\n",
    "😺=2\n",
    "bitstring(✌^😺)"
   ]
  },
  {
   "cell_type": "code",
   "execution_count": 5,
   "metadata": {},
   "outputs": [
    {
     "data": {
      "text/plain": [
       "\"0000000000000000000000000000000000000000000000000000000000001000\""
      ]
     },
     "execution_count": 5,
     "metadata": {},
     "output_type": "execute_result"
    }
   ],
   "source": [
    "😺=3\n",
    "bitstring(✌^😺)"
   ]
  },
  {
   "cell_type": "markdown",
   "metadata": {},
   "source": [
    "이렇게 써보자\n",
    "```julia\n",
    "고양이 = '😺'\n",
    "\n",
    "println(\"나는 $고양이-를 좋아합니다\")\n",
    "```"
   ]
  },
  {
   "cell_type": "code",
   "execution_count": 4,
   "metadata": {},
   "outputs": [
    {
     "name": "stdout",
     "output_type": "stream",
     "text": [
      "나는 😺-를 좋아하고 🐕 를 싫어합니다\n"
     ]
    }
   ],
   "source": [
    "고양이 = '😺'\n",
    "개 = '🐕'\n",
    "println(\"나는 $고양이-를 좋아하고 $개 를 싫어합니다\")"
   ]
  },
  {
   "cell_type": "markdown",
   "metadata": {},
   "source": [
    "## Tuple(元组)\n",
    "### 튜플은 셀수있는 것들이 들어있는 항목의 나열이다 중요한것은 이것은 선언된후 바꿀수 없다"
   ]
  },
  {
   "cell_type": "code",
   "execution_count": 10,
   "metadata": {},
   "outputs": [
    {
     "name": "stdout",
     "output_type": "stream",
     "text": [
      "😂\n"
     ]
    }
   ],
   "source": [
    "#좋아하는걸 써보자 \n",
    "내가좋아하는거 = ('😀','😁','😂','🤣','🤣','😃','😃')\n",
    "println(내가좋아하는거[3])\n",
    "#이건 한번쓰면 안바뀜 (밑에꺼를 시전하면 바로 주화입마에 걸립니다.)\n",
    "#내가좋아하는거[6] = \"hello\"\n",
    "# println(내가좋아하는거[6])"
   ]
  },
  {
   "cell_type": "code",
   "execution_count": 3,
   "metadata": {},
   "outputs": [
    {
     "name": "stdout",
     "output_type": "stream",
     "text": [
      "👻X\n"
     ]
    }
   ],
   "source": [
    "#좋아하는걸 써보자 \n",
    "ilike = (2,0.1,1im,'😺',\"👻X\",0xff)\n",
    "println(ilike[5])"
   ]
  },
  {
   "cell_type": "markdown",
   "metadata": {},
   "source": [
    "## Array(数组)\n",
    "### 어레이 역시 셀수있는것의 나열이지만 이것은 선언된후에 나중에 바뀔수도 또한 빼거나 넣거나 하는것도 가능하다"
   ]
  },
  {
   "cell_type": "code",
   "execution_count": 1,
   "metadata": {},
   "outputs": [
    {
     "name": "stdout",
     "output_type": "stream",
     "text": [
      "👻\n",
      "🍭\n",
      "❤\n"
     ]
    }
   ],
   "source": [
    "#좋아하는거 바뀜\n",
    "내가좋아하는거 = ['😺','👻','😄']\n",
    "println(내가좋아하는거[2])\n",
    "내가좋아하는거[2]= '🍭'\n",
    "println(내가좋아하는거[2])\n",
    "내가좋아하는거[2]= '❤'\n",
    "println(내가좋아하는거[2])"
   ]
  },
  {
   "cell_type": "markdown",
   "metadata": {},
   "source": [
    "## Dictionary(词典)\n",
    "### 사전은 데이터에 쌍(couple)을 만들어주는것입니다.  "
   ]
  },
  {
   "cell_type": "code",
   "execution_count": 74,
   "metadata": {},
   "outputs": [
    {
     "name": "stdout",
     "output_type": "stream",
     "text": [
      "Dict(\"James\" => \"11111111\",\"DHKang\" => \"555-5555\")\n",
      "11111111\n",
      "Dict(\"James\" => \"11111111\",\"Mimi\" => \"555-MIMI\",\"DHKang\" => \"555-5555\")\n",
      "555-MIMI\n",
      "Dict(\"James\" => \"11111111\",\"Mimi\" => \"555-MIMI\",\"Jaewoo\" => \"888-8888\",\"DHKang\" => \"555-5555\")\n",
      "Dict(\"James\" => \"11111111\",\"Mimi\" => \"555-MIMI\",\"DHKang\" => \"555-5555\")\n",
      "Dict(\"James\" => \"11111111\",\"Mimi\" => \"555-MIMI\",\"Jaewoo\" => \"555-6666\",\"DHKang\" => \"555-5555\")\n"
     ]
    }
   ],
   "source": [
    "내전화번호부 = Dict(\"James\" => \"11111111\", \"DHKang\" => \"555-5555\",)\n",
    "println(내전화번호부)\n",
    "println(내전화번호부[\"James\"])\n",
    "내전화번호부[\"Mimi\"] = \"555-MIMI\"\n",
    "println(내전화번호부)\n",
    "println(내전화번호부[\"Mimi\"])\n",
    "내전화번호부[\"Jaewoo\"] = \"888-8888\"\n",
    "println(내전화번호부)\n",
    "pop!(내전화번호부,\"Jaewoo\")\n",
    "println(내전화번호부)\n",
    "push!(내전화번호부,\"Jaewoo\"=>\"555-6666\")\n",
    "println(내전화번호부)\n",
    "#이건 인덱싱(순차적인체크를 번호로 하기) 이 힘들어요    (밑에꺼를 시전하면 바로 주화입마에 걸립니다.)\n",
    "#println(내전화번호부[1])"
   ]
  },
  {
   "cell_type": "code",
   "execution_count": 5,
   "metadata": {},
   "outputs": [
    {
     "name": "stdout",
     "output_type": "stream",
     "text": [
      "Dict(\"James\" => \"11111111\",\"DHKang\" => \"555-5555\")\n",
      "11111111\n",
      "Dict(\"James\" => \"11111111\",\"Mimi\" => \"555-MIMI\",\"DHKang\" => \"555-5555\")\n",
      "555-MIMI\n",
      "Dict(\"James\" => \"11111111\",\"Mimi\" => \"555-MIMI\",\"Jaewoo\" => \"888-8888\",\"DHKang\" => \"555-5555\")\n",
      "Dict(\"James\" => \"11111111\",\"Mimi\" => \"555-MIMI\",\"DHKang\" => \"555-5555\")\n",
      "Dict(\"James\" => \"11111111\",\"Mimi\" => \"555-MIMI\",\"Jaewoo\" => \"555-6666\",\"DHKang\" => \"555-5555\")\n"
     ]
    }
   ],
   "source": [
    "telephone = Dict(\"James\" => \"11111111\", \"DHKang\" => \"555-5555\")\n",
    "println(telephone)\n",
    "println(telephone[\"James\"])\n",
    "telephone[\"Mimi\"] = \"555-MIMI\"\n",
    "println(telephone)\n",
    "println(telephone[\"Mimi\"])\n",
    "telephone[\"Jaewoo\"] = \"888-8888\"\n",
    "println(telephone)\n",
    "pop!(telephone,\"Jaewoo\")\n",
    "println(telephone)\n",
    "push!(telephone,\"Jaewoo\"=>\"555-6666\")\n",
    "println(telephone)"
   ]
  },
  {
   "cell_type": "code",
   "execution_count": 75,
   "metadata": {},
   "outputs": [
    {
     "name": "stdout",
     "output_type": "stream",
     "text": [
      "555-6666\n",
      "Dict(\"James\" => \"11111111\",\"Mimi\" => \"555-MIMI\",\"DHKang\" => \"555-5555\")\n",
      "Dict(\"James\" => \"11111111\",\"Mimi\" => \"555-MIMI\",\"Jaewoo\" => \"555-6666\",\"DHKang\" => \"555-5555\")\n"
     ]
    }
   ],
   "source": [
    "println(pop!(내전화번호부,\"Jaewoo\")) # 꺼내면서 지워버리기\n",
    "println(내전화번호부) \n",
    "println(push!(내전화번호부,\"Jaewoo\"=>\"555-6666\")) #넣으면서 프린트 하기\n",
    "# 인덱싱을 프린트 할때 하지마세요, 주화입마 됩니다. \n",
    "#println(myphonebook,1)  "
   ]
  },
  {
   "cell_type": "markdown",
   "metadata": {},
   "source": [
    "## Named Tuples(叫元组)/명명된 튜플\n",
    "### 튜플을 사전처럼 쓰는 방법입니다, 이것은 사전과 비슷합니다."
   ]
  },
  {
   "cell_type": "code",
   "execution_count": 8,
   "metadata": {},
   "outputs": [
    {
     "name": "stdout",
     "output_type": "stream",
     "text": [
      "(Dragon = \"🐲드래곤\", Whale = \"🐋고래\", Parrot = \"🦜앵무새\")\n",
      "🐲드래곤\n",
      "🐋\n",
      "🦜\n"
     ]
    }
   ],
   "source": [
    "내가좋아하는동물 = ( Dragon = \"🐲드래곤\", Whale = \"🐋고래\", Parrot = \"🦜앵무새\")\n",
    "println(내가좋아하는동물)\n",
    "println(내가좋아하는동물.Dragon)\n",
    "println(내가좋아하는동물.Whale[1])\n",
    "println(내가좋아하는동물.Parrot[1])\n",
    "#이건 튜플의 일종이기때문에 마찬가지로 선언된후 바꿀수가 없습니다. (밑에꺼를 시전하면 바로 주화입마에 걸립니다.)\n",
    "#내가좋아하는동물[3] = \"🦅독수리\"\n",
    "#내가좋아하는동물.Parrot = \"🦉부엉이\""
   ]
  },
  {
   "cell_type": "markdown",
   "metadata": {},
   "source": [
    "### 명명된 튜플을 어레이와 응용해볼까요? "
   ]
  },
  {
   "cell_type": "code",
   "execution_count": 14,
   "metadata": {},
   "outputs": [
    {
     "name": "stdout",
     "output_type": "stream",
     "text": [
      "(정세헌 = Any[2010, \"James\", '😉'], 장서진 = Any[2012, \"Mimi\", '😸'], 강대한 = Any[2012, \"DHKang\", '👦'])\n",
      "😉\n",
      "😸\n",
      "DHKang\n",
      "Kang DaeHan\n",
      "(정세헌 = Any[2010, \"James\", '😉'], 장서진 = Any[2012, \"MIMI\", '😸'], 강대한 = Any[2012, \"Kang DaeHan\", '😎'])\n"
     ]
    }
   ],
   "source": [
    "내가좋아하는친구 = ( 정세헌 = [2010,\"James\",'😉'] , 장서진 = [2012,\"Mimi\",'😸'], 강대한 = [2012,\"DHKang\",'👦'])\n",
    "println(내가좋아하는친구)\n",
    "println(내가좋아하는친구[1][3])\n",
    "println(내가좋아하는친구.장서진[3])\n",
    "println(내가좋아하는친구[3][2])\n",
    "내가좋아하는친구[3][2] = \"Kang DaeHan\"\n",
    "println(내가좋아하는친구.강대한[2])\n",
    "내가좋아하는친구[3][3] = '😎'\n",
    "내가좋아하는친구.장서진[2] = \"MIMI\"\n",
    "println(내가좋아하는친구)"
   ]
  },
  {
   "cell_type": "code",
   "execution_count": null,
   "metadata": {},
   "outputs": [],
   "source": []
  },
  {
   "cell_type": "code",
   "execution_count": null,
   "metadata": {},
   "outputs": [],
   "source": []
  }
 ],
 "metadata": {
  "kernelspec": {
   "display_name": "JuliaPro_v1.5.2-1 1.5.2",
   "language": "julia",
   "name": "juliapro_v1.5.2-1-1.5"
  },
  "language_info": {
   "file_extension": ".jl",
   "mimetype": "application/julia",
   "name": "julia",
   "version": "1.5.2"
  }
 },
 "nbformat": 4,
 "nbformat_minor": 4
}
