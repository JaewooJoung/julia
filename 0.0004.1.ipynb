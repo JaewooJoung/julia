{
 "cells": [
  {
   "cell_type": "markdown",
   "metadata": {},
   "source": [
    "# 중간점검 배운것 복습\n",
    "## 다시 연습해봅시다"
   ]
  },
  {
   "cell_type": "markdown",
   "metadata": {},
   "source": [
    "쥬피터는 두가지를 할수있습니다.  하나는 쓰기입니다. 또다른 하나는 프로그래밍 입니다.\n",
    "그냥 글씨를 쓸때는 위에 `Markdown` 이라는 것으로 바꾸어주고 씁니다. \n",
    "\n",
    "`#` 은 큰 글씨를 씁니다. \n",
    "`##` 작은글씨를 씁니다. `#####` 최대 5개까지 쓸수있습니다. \n",
    "\n",
    "프로그램을 할때는 위에 `Code` 라는것으로 바꾸어주고 씁니다. \n"
   ]
  },
  {
   "cell_type": "markdown",
   "metadata": {},
   "source": [
    "### 프로그램이라는 것은 계산식입니다. "
   ]
  },
  {
   "cell_type": "markdown",
   "metadata": {},
   "source": [
    "#### 아래와같은 계산식을 쓰고 `▶`(플레이버튼을) 누르면 그냥 계산을 해줍니다. \n",
    "```julia \n",
    "1+1 #1더하기 1 입니다\n",
    "```\n",
    "##### `#` 을 프로그래밍에서는 주석 이라고 합니다. `#` 을 달고 뒤에 설명을 쓰는것은 습관입니다. "
   ]
  },
  {
   "cell_type": "code",
   "execution_count": 13,
   "metadata": {},
   "outputs": [
    {
     "data": {
      "text/plain": [
       "2"
      ]
     },
     "execution_count": 13,
     "metadata": {},
     "output_type": "execute_result"
    }
   ],
   "source": [
    "1+1 #(주석) 1더하기 1입니다."
   ]
  },
  {
   "cell_type": "markdown",
   "metadata": {},
   "source": [
    "#### 그렇지만 우리는 계산을 머릿속으로도 할수있습니다. 위와같은 계산은 간단한 계산기에서도 할수있습니다. \n",
    "#### 그래서 문장을 계산식으로 할수있는 방법을 만들수도 있습니다. \n",
    "#### 이걸 배우기 위해서는 먼저 정해진 변수(变数/variable) 에 저장하는 법을 배워야합니다. \n",
    "##### 다음을 해봅시다\n",
    "```julia\n",
    "a=1 #1 을 a에 넣습니다. \n",
    "b=1 #1 을 b에 넣습니다. \n",
    "c=a+b #a와 b를 더해서 c에 넣습니다. \n",
    "println(a+b) #화면에 c를 프린트를 합니다.\n",
    "```"
   ]
  },
  {
   "cell_type": "code",
   "execution_count": 10,
   "metadata": {},
   "outputs": [
    {
     "name": "stdout",
     "output_type": "stream",
     "text": [
      "2\n"
     ]
    }
   ],
   "source": [
    "a=1 #1 을 a에 넣습니다. \n",
    "b=1 #1 을 b에 넣습니다. \n",
    "c=a+b #a와 b를 더해서 c에 넣습니다. \n",
    "println(c) #화면에 c를 프린트를 합니다."
   ]
  },
  {
   "cell_type": "code",
   "execution_count": 12,
   "metadata": {},
   "outputs": [
    {
     "name": "stdout",
     "output_type": "stream",
     "text": [
      "2\n",
      "4\n"
     ]
    }
   ],
   "source": [
    "a=1 #1 을 a에 넣습니다. \n",
    "b=1 #1 을 b에 넣습니다. \n",
    "c=a+b #a와 b를 더해서 c에 넣습니다. \n",
    "println(c) #화면에 c를 프린트를 합니다.\n",
    "a=2 #2 을 a에 넣습니다. \n",
    "b=2 #2 을 b에 넣습니다. \n",
    "c=a+b #a와 b를 더해서 c에 넣습니다. \n",
    "println(c) #화면에 c를 프린트를 합니다."
   ]
  },
  {
   "cell_type": "code",
   "execution_count": null,
   "metadata": {},
   "outputs": [],
   "source": [
    "# 숫자만 쓰는건 재미가 없죠? 그러니 4.0 을 다시 공부해봅시다."
   ]
  }
 ],
 "metadata": {
  "kernelspec": {
   "display_name": "JuliaPro_v1.5.2-1 1.5.2",
   "language": "julia",
   "name": "juliapro_v1.5.2-1-1.5"
  },
  "language_info": {
   "file_extension": ".jl",
   "mimetype": "application/julia",
   "name": "julia",
   "version": "1.5.2"
  }
 },
 "nbformat": 4,
 "nbformat_minor": 4
}
