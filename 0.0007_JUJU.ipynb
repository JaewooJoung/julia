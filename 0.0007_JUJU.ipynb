{
 "cells": [
  {
   "cell_type": "markdown",
   "id": "surrounded-nightmare",
   "metadata": {},
   "source": [
    "# 원주율(Yuánzhōulǜ /圆周率 )π\n",
    "## 원주율(圓周率\\ pi \\π)은 원의 지름에 대한 원주(원둘레)의 비율을 뜻"
   ]
  },
  {
   "cell_type": "code",
   "execution_count": 9,
   "id": "solid-burton",
   "metadata": {},
   "outputs": [
    {
     "name": "stdout",
     "output_type": "stream",
     "text": [
      "7.485470860550343\n"
     ]
    }
   ],
   "source": [
    "#원주율은 (1/1^2) +(2/2^2) +...\n",
    "FMyPi(o,s) = return o+(s/(s^2))\n",
    "\n",
    "function FPiFor(X)\n",
    "    Y=0\n",
    "    for idx1 in 1:X\n",
    "        Y = FMyPi(Y,idx1)\n",
    "        \n",
    "    end\n",
    "    return Y\n",
    "end\n",
    "\n",
    "println(FPiFor(1000))\n"
   ]
  },
  {
   "cell_type": "code",
   "execution_count": null,
   "id": "unauthorized-douglas",
   "metadata": {},
   "outputs": [],
   "source": []
  },
  {
   "cell_type": "code",
   "execution_count": null,
   "id": "elegant-craps",
   "metadata": {},
   "outputs": [],
   "source": []
  },
  {
   "cell_type": "code",
   "execution_count": null,
   "id": "progressive-triumph",
   "metadata": {},
   "outputs": [],
   "source": []
  }
 ],
 "metadata": {
  "kernelspec": {
   "display_name": "JuliaPro_v1.5.2-1 1.5.2",
   "language": "julia",
   "name": "juliapro_v1.5.2-1-1.5"
  },
  "language_info": {
   "file_extension": ".jl",
   "mimetype": "application/julia",
   "name": "julia",
   "version": "1.5.2"
  }
 },
 "nbformat": 4,
 "nbformat_minor": 5
}
